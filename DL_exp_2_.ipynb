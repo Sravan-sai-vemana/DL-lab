{
  "nbformat": 4,
  "nbformat_minor": 0,
  "metadata": {
    "colab": {
      "provenance": [],
      "authorship_tag": "ABX9TyPbiLtqt44R0BOCOn9q1jei",
      "include_colab_link": true
    },
    "kernelspec": {
      "name": "python3",
      "display_name": "Python 3"
    },
    "language_info": {
      "name": "python"
    }
  },
  "cells": [
    {
      "cell_type": "markdown",
      "metadata": {
        "id": "view-in-github",
        "colab_type": "text"
      },
      "source": [
        "<a href=\"https://colab.research.google.com/github/Sravan-sai-vemana/DL-lab/blob/main/DL_exp_2_.ipynb\" target=\"_parent\"><img src=\"https://colab.research.google.com/assets/colab-badge.svg\" alt=\"Open In Colab\"/></a>"
      ]
    },
    {
      "cell_type": "code",
      "execution_count": null,
      "metadata": {
        "id": "nF9hGVb_YvdK"
      },
      "outputs": [],
      "source": [
        "import numpy as np\n",
        "import random"
      ]
    },
    {
      "cell_type": "code",
      "source": [
        "and_gate = [\n",
        "    [(1, 1), 1],\n",
        "    [(1, -1), -1],\n",
        "    [(-1, 1), -1],\n",
        "    [(-1, -1), -1]\n",
        "]"
      ],
      "metadata": {
        "id": "g4NNOa2yZ0_q"
      },
      "execution_count": null,
      "outputs": []
    },
    {
      "cell_type": "code",
      "source": [
        "or_gate = [\n",
        "    [(1, 1), 1],\n",
        "    [(1, -1), 1],\n",
        "    [(-1, 1), 1],\n",
        "    [(-1, -1), -1]\n",
        "]"
      ],
      "metadata": {
        "id": "JL8XnU9lZ4IB"
      },
      "execution_count": null,
      "outputs": []
    },
    {
      "cell_type": "code",
      "source": [
        "def activation_function(x):\n",
        "    if x > 0:\n",
        "        return 1\n",
        "    elif x < 0:\n",
        "        return -1"
      ],
      "metadata": {
        "id": "Wz3ZYaWRZ7yB"
      },
      "execution_count": null,
      "outputs": []
    },
    {
      "cell_type": "code",
      "source": [
        "def train(gate):\n",
        "    b = 1\n",
        "    l_rate = 0.1\n",
        "    e = 50\n",
        "    weights = list(gate[0][0])\n",
        "    for i in range(e):\n",
        "        for j in range(4):\n",
        "          inputs, actual = gate[j]\n",
        "          weighted_sum = np.dot(inputs, weights)+b\n",
        "          guess = activation_function(weighted_sum)\n",
        "          error = actual - guess\n",
        "          weights += l_rate * error * np.asarray(inputs)\n",
        "          b+=l_rate*error\n",
        "    for i in range(4):\n",
        "      inputs, actual = gate[i]\n",
        "      print(\"inputs: \" + str(inputs))\n",
        "      weighted_sum = np.dot(inputs, weights)+b\n",
        "      print(\"actual: \" + str(actual))\n",
        "      print(\"predicted: \" + str(activation_function(weighted_sum)) + '\\n')"
      ],
      "metadata": {
        "id": "kIQ8JXtcZ-pL"
      },
      "execution_count": null,
      "outputs": []
    },
    {
      "cell_type": "code",
      "source": [
        "print(\"// AND //\")\n",
        "train(and_gate)\n",
        "\n",
        "print(\"// OR //\")\n",
        "train(or_gate)"
      ],
      "metadata": {
        "colab": {
          "base_uri": "https://localhost:8080/"
        },
        "id": "X5O0P0axaCYD",
        "outputId": "8a923f0c-0a8b-4aec-c3c2-f3b940225afd"
      },
      "execution_count": null,
      "outputs": [
        {
          "output_type": "stream",
          "name": "stdout",
          "text": [
            "// AND //\n",
            "inputs: (1, 1)\n",
            "actual: 1\n",
            "predicted: 1\n",
            "\n",
            "inputs: (1, -1)\n",
            "actual: -1\n",
            "predicted: -1\n",
            "\n",
            "inputs: (-1, 1)\n",
            "actual: -1\n",
            "predicted: -1\n",
            "\n",
            "inputs: (-1, -1)\n",
            "actual: -1\n",
            "predicted: -1\n",
            "\n",
            "// OR //\n",
            "inputs: (1, 1)\n",
            "actual: 1\n",
            "predicted: 1\n",
            "\n",
            "inputs: (1, -1)\n",
            "actual: 1\n",
            "predicted: 1\n",
            "\n",
            "inputs: (-1, 1)\n",
            "actual: 1\n",
            "predicted: 1\n",
            "\n",
            "inputs: (-1, -1)\n",
            "actual: -1\n",
            "predicted: -1\n",
            "\n"
          ]
        }
      ]
    },
    {
      "cell_type": "code",
      "source": [],
      "metadata": {
        "id": "DTlLfs_TaEPj"
      },
      "execution_count": null,
      "outputs": []
    }
  ]
}